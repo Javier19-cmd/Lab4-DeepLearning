{
 "cells": [
  {
   "cell_type": "code",
   "execution_count": null,
   "metadata": {},
   "outputs": [],
   "source": [
    "# 0 no entra en mora 1 sí entra en mora."
   ]
  },
  {
   "cell_type": "code",
   "execution_count": 5,
   "metadata": {},
   "outputs": [],
   "source": [
    "import pandas as pd\n",
    "import numpy as np\n",
    "import tensorflow as tf\n",
    "from sklearn.model_selection import train_test_split\n",
    "from sklearn.preprocessing import StandardScaler\n",
    "from tensorflow.keras.models import Sequential\n",
    "from tensorflow.keras.layers import Dense\n",
    "from tensorflow.keras.optimizers import Adam"
   ]
  },
  {
   "cell_type": "code",
   "execution_count": 16,
   "metadata": {},
   "outputs": [
    {
     "name": "stdout",
     "output_type": "stream",
     "text": [
      "Epoch 1/100\n",
      "300/300 - 2s - loss: 0.4734 - accuracy: 0.8049 - val_loss: 0.4550 - val_accuracy: 0.8150 - 2s/epoch - 8ms/step\n",
      "Epoch 2/100\n",
      "300/300 - 1s - loss: 0.4394 - accuracy: 0.8167 - val_loss: 0.4509 - val_accuracy: 0.8185 - 748ms/epoch - 2ms/step\n",
      "Epoch 3/100\n",
      "300/300 - 1s - loss: 0.4323 - accuracy: 0.8206 - val_loss: 0.4449 - val_accuracy: 0.8192 - 709ms/epoch - 2ms/step\n",
      "Epoch 4/100\n",
      "300/300 - 1s - loss: 0.4272 - accuracy: 0.8208 - val_loss: 0.4447 - val_accuracy: 0.8169 - 683ms/epoch - 2ms/step\n",
      "Epoch 5/100\n",
      "300/300 - 1s - loss: 0.4232 - accuracy: 0.8219 - val_loss: 0.4416 - val_accuracy: 0.8171 - 641ms/epoch - 2ms/step\n",
      "Epoch 6/100\n",
      "300/300 - 1s - loss: 0.4212 - accuracy: 0.8226 - val_loss: 0.4420 - val_accuracy: 0.8171 - 647ms/epoch - 2ms/step\n",
      "Epoch 7/100\n",
      "300/300 - 1s - loss: 0.4182 - accuracy: 0.8230 - val_loss: 0.4420 - val_accuracy: 0.8179 - 651ms/epoch - 2ms/step\n",
      "Epoch 8/100\n",
      "300/300 - 1s - loss: 0.4154 - accuracy: 0.8239 - val_loss: 0.4397 - val_accuracy: 0.8219 - 651ms/epoch - 2ms/step\n",
      "Epoch 9/100\n",
      "300/300 - 1s - loss: 0.4121 - accuracy: 0.8264 - val_loss: 0.4466 - val_accuracy: 0.8133 - 649ms/epoch - 2ms/step\n",
      "Epoch 10/100\n",
      "300/300 - 1s - loss: 0.4095 - accuracy: 0.8267 - val_loss: 0.4435 - val_accuracy: 0.8163 - 720ms/epoch - 2ms/step\n",
      "Epoch 11/100\n",
      "300/300 - 1s - loss: 0.4080 - accuracy: 0.8264 - val_loss: 0.4490 - val_accuracy: 0.8138 - 694ms/epoch - 2ms/step\n",
      "Epoch 12/100\n",
      "300/300 - 1s - loss: 0.4033 - accuracy: 0.8271 - val_loss: 0.4474 - val_accuracy: 0.8156 - 757ms/epoch - 3ms/step\n",
      "Epoch 13/100\n"
     ]
    }
   ],
   "source": [
    "# Abrir el archivo de datos\n",
    "df = pd.read_csv('dataset.csv')\n",
    "#print(df)\n",
    "\n",
    "# Eliminar la fila de encabezados\n",
    "data = df.drop(0)\n",
    "\n",
    "# Convertir los datos a tipo numérico\n",
    "data = data.astype(float)\n",
    "\n",
    "# Separar las características (X) y la variable objetivo (Y)\n",
    "X = data.iloc[:, 1:-1].values\n",
    "Y = data[\"Y\"].values\n",
    "\n",
    "# Dividir los datos en conjuntos de entrenamiento y prueba\n",
    "X_train, X_test, Y_train, Y_test = train_test_split(X, Y, test_size=0.2, random_state=42)\n",
    "\n",
    "# Escalar las características para mejorar el rendimiento del modelo\n",
    "scaler = StandardScaler()\n",
    "X_train = scaler.fit_transform(X_train)\n",
    "X_test = scaler.transform(X_test)\n",
    "\n",
    "# Construir el modelo de red neuronal\n",
    "model = Sequential()\n",
    "model.add(Dense(64, input_dim=X_train.shape[1], activation='relu'))\n",
    "model.add(Dense(128, activation='relu')) \n",
    "model.add(Dense(64, activation='relu'))   \n",
    "model.add(Dense(32, activation='relu'))   \n",
    "model.add(Dense(1, activation='sigmoid'))\n",
    "\n",
    "# Compilar el modelo\n",
    "model.compile(loss='binary_crossentropy', optimizer=Adam(learning_rate=0.001), metrics=['accuracy'])\n",
    "\n",
    "# Entrenar el modelo\n",
    "history = model.fit(X_train, Y_train, epochs=100, batch_size=64, validation_split=0.2, verbose=2)\n",
    "\n",
    "# Evaluar el modelo en el conjunto de prueba\n",
    "loss, accuracy = model.evaluate(X_test, Y_test)\n",
    "print(f'Loss: {loss}, Accuracy: {accuracy}')\n",
    "\n",
    "# Guardar el modelo entrenado si es necesario\n",
    "# model.save('modelo_entrenado.h5')"
   ]
  }
 ],
 "metadata": {
  "kernelspec": {
   "display_name": "Python 3",
   "language": "python",
   "name": "python3"
  },
  "language_info": {
   "codemirror_mode": {
    "name": "ipython",
    "version": 3
   },
   "file_extension": ".py",
   "mimetype": "text/x-python",
   "name": "python",
   "nbconvert_exporter": "python",
   "pygments_lexer": "ipython3",
   "version": "3.11.3"
  },
  "orig_nbformat": 4
 },
 "nbformat": 4,
 "nbformat_minor": 2
}
